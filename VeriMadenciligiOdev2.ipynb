{
  "nbformat": 4,
  "nbformat_minor": 0,
  "metadata": {
    "colab": {
      "provenance": []
    },
    "kernelspec": {
      "name": "python3",
      "display_name": "Python 3"
    },
    "language_info": {
      "name": "python"
    }
  },
  "cells": [
    {
      "cell_type": "code",
      "execution_count": null,
      "metadata": {
        "id": "hFzrPvVp1KC5"
      },
      "outputs": [],
      "source": [
        "import numpy as np\n",
        "import matplotlib.pyplot as plt\n",
        "from matplotlib.ticker import NullFormatter\n",
        "import pandas as pd\n",
        "from sklearn import preprocessing\n",
        "from sklearn.model_selection import train_test_split\n",
        "from sklearn.preprocessing import LabelEncoder\n",
        "from sklearn.preprocessing import MinMaxScaler\n",
        "from sklearn.model_selection import cross_val_score\n",
        "from sklearn.neighbors import KNeighborsClassifier\n",
        "from sklearn.naive_bayes import GaussianNB\n",
        "from sklearn.tree import DecisionTreeClassifier\n",
        "from sklearn.neural_network import MLPClassifier\n",
        "from sklearn.metrics import classification_report,confusion_matrix\n",
        "from sklearn.mixture import GaussianMixture\n",
        "from sklearn.cluster import Birch\n",
        "%matplotlib inline"
      ]
    },
    {
      "cell_type": "code",
      "source": [
        "#The dataset that has been used in model training task consists of totally 640\n",
        "#samples which represent performance measurement from simulation of 2D\n",
        "#Multiprocessor Optical Interconnection Network.\n",
        "#Attribute Information:\n",
        "# Node Number - The Number of Nodes in Network (64 or 16)\n",
        "# Thread Number - The number of threads in each node at beginning of simulation\n",
        "# Spatial Distribution - This column indicates performance of the network, UN (Uniform),HR (Hot Region),BR (Bit Reverse),PS (Perfect Shuffle)\n",
        "# Temporal Distribution - \n",
        "\n",
        "df = pd.read_csv('optical_interconnection_network .csv')\n",
        "\n",
        "df2 = df.copy()\n",
        "\n",
        "#luckily there is no any missing value in dataset\n",
        "for z in df2.columns:\n",
        "  df2 = df2[df2[z].notna()]\n",
        "\n",
        "if len(df) - len(df2) == 0:\n",
        "  print('there is no any missing value in dataset')"
      ],
      "metadata": {
        "colab": {
          "base_uri": "https://localhost:8080/"
        },
        "id": "vougRJyuOeAJ",
        "outputId": "2a4e2ad4-ea2b-4929-98a1-3ee2584fda0b"
      },
      "execution_count": null,
      "outputs": [
        {
          "output_type": "stream",
          "name": "stdout",
          "text": [
            "there is no any missing value in dataset\n"
          ]
        }
      ]
    },
    {
      "cell_type": "code",
      "source": [
        "df.head()"
      ],
      "metadata": {
        "colab": {
          "base_uri": "https://localhost:8080/",
          "height": 267
        },
        "id": "MKC7cLCzpjT_",
        "outputId": "8360c794-8119-46a2-a0e0-caec204a19bd"
      },
      "execution_count": null,
      "outputs": [
        {
          "output_type": "execute_result",
          "data": {
            "text/plain": [
              "   Node Number  Thread Number Spatial Distribution Temporal Distribution  T/R  \\\n",
              "0           64              4                   UN         Client-Server  0,1   \n",
              "1           64              4                   UN         Client-Server  0,2   \n",
              "2           64              4                   UN         Client-Server  0,3   \n",
              "3           64              4                   UN         Client-Server  0,4   \n",
              "4           64              4                   UN         Client-Server  0,5   \n",
              "\n",
              "  Processor Utilization  Channel Waiting Time Input Waiting Time  \\\n",
              "0               0,839546            1,974,686        308,491,814   \n",
              "1               0,827412            9,556,437        291,037,663   \n",
              "2               0,802605           27,027,618        264,928,002   \n",
              "3               0,723403           61,848,511        235,776,888   \n",
              "4                0,72121          121,085,884        189,680,044   \n",
              "\n",
              "  Network Response Time Channel Utilization  \n",
              "0           700,514,102            0,352431  \n",
              "1           864,599,227            0,506302  \n",
              "2           839,372,851            0,638516  \n",
              "3         1,256,053,108            0,767051  \n",
              "4         1,343,875,577            0,807812  "
            ],
            "text/html": [
              "\n",
              "  <div id=\"df-c8361118-a0ff-43db-91e0-a51d9da55e73\">\n",
              "    <div class=\"colab-df-container\">\n",
              "      <div>\n",
              "<style scoped>\n",
              "    .dataframe tbody tr th:only-of-type {\n",
              "        vertical-align: middle;\n",
              "    }\n",
              "\n",
              "    .dataframe tbody tr th {\n",
              "        vertical-align: top;\n",
              "    }\n",
              "\n",
              "    .dataframe thead th {\n",
              "        text-align: right;\n",
              "    }\n",
              "</style>\n",
              "<table border=\"1\" class=\"dataframe\">\n",
              "  <thead>\n",
              "    <tr style=\"text-align: right;\">\n",
              "      <th></th>\n",
              "      <th>Node Number</th>\n",
              "      <th>Thread Number</th>\n",
              "      <th>Spatial Distribution</th>\n",
              "      <th>Temporal Distribution</th>\n",
              "      <th>T/R</th>\n",
              "      <th>Processor Utilization</th>\n",
              "      <th>Channel Waiting Time</th>\n",
              "      <th>Input Waiting Time</th>\n",
              "      <th>Network Response Time</th>\n",
              "      <th>Channel Utilization</th>\n",
              "    </tr>\n",
              "  </thead>\n",
              "  <tbody>\n",
              "    <tr>\n",
              "      <th>0</th>\n",
              "      <td>64</td>\n",
              "      <td>4</td>\n",
              "      <td>UN</td>\n",
              "      <td>Client-Server</td>\n",
              "      <td>0,1</td>\n",
              "      <td>0,839546</td>\n",
              "      <td>1,974,686</td>\n",
              "      <td>308,491,814</td>\n",
              "      <td>700,514,102</td>\n",
              "      <td>0,352431</td>\n",
              "    </tr>\n",
              "    <tr>\n",
              "      <th>1</th>\n",
              "      <td>64</td>\n",
              "      <td>4</td>\n",
              "      <td>UN</td>\n",
              "      <td>Client-Server</td>\n",
              "      <td>0,2</td>\n",
              "      <td>0,827412</td>\n",
              "      <td>9,556,437</td>\n",
              "      <td>291,037,663</td>\n",
              "      <td>864,599,227</td>\n",
              "      <td>0,506302</td>\n",
              "    </tr>\n",
              "    <tr>\n",
              "      <th>2</th>\n",
              "      <td>64</td>\n",
              "      <td>4</td>\n",
              "      <td>UN</td>\n",
              "      <td>Client-Server</td>\n",
              "      <td>0,3</td>\n",
              "      <td>0,802605</td>\n",
              "      <td>27,027,618</td>\n",
              "      <td>264,928,002</td>\n",
              "      <td>839,372,851</td>\n",
              "      <td>0,638516</td>\n",
              "    </tr>\n",
              "    <tr>\n",
              "      <th>3</th>\n",
              "      <td>64</td>\n",
              "      <td>4</td>\n",
              "      <td>UN</td>\n",
              "      <td>Client-Server</td>\n",
              "      <td>0,4</td>\n",
              "      <td>0,723403</td>\n",
              "      <td>61,848,511</td>\n",
              "      <td>235,776,888</td>\n",
              "      <td>1,256,053,108</td>\n",
              "      <td>0,767051</td>\n",
              "    </tr>\n",
              "    <tr>\n",
              "      <th>4</th>\n",
              "      <td>64</td>\n",
              "      <td>4</td>\n",
              "      <td>UN</td>\n",
              "      <td>Client-Server</td>\n",
              "      <td>0,5</td>\n",
              "      <td>0,72121</td>\n",
              "      <td>121,085,884</td>\n",
              "      <td>189,680,044</td>\n",
              "      <td>1,343,875,577</td>\n",
              "      <td>0,807812</td>\n",
              "    </tr>\n",
              "  </tbody>\n",
              "</table>\n",
              "</div>\n",
              "      <button class=\"colab-df-convert\" onclick=\"convertToInteractive('df-c8361118-a0ff-43db-91e0-a51d9da55e73')\"\n",
              "              title=\"Convert this dataframe to an interactive table.\"\n",
              "              style=\"display:none;\">\n",
              "        \n",
              "  <svg xmlns=\"http://www.w3.org/2000/svg\" height=\"24px\"viewBox=\"0 0 24 24\"\n",
              "       width=\"24px\">\n",
              "    <path d=\"M0 0h24v24H0V0z\" fill=\"none\"/>\n",
              "    <path d=\"M18.56 5.44l.94 2.06.94-2.06 2.06-.94-2.06-.94-.94-2.06-.94 2.06-2.06.94zm-11 1L8.5 8.5l.94-2.06 2.06-.94-2.06-.94L8.5 2.5l-.94 2.06-2.06.94zm10 10l.94 2.06.94-2.06 2.06-.94-2.06-.94-.94-2.06-.94 2.06-2.06.94z\"/><path d=\"M17.41 7.96l-1.37-1.37c-.4-.4-.92-.59-1.43-.59-.52 0-1.04.2-1.43.59L10.3 9.45l-7.72 7.72c-.78.78-.78 2.05 0 2.83L4 21.41c.39.39.9.59 1.41.59.51 0 1.02-.2 1.41-.59l7.78-7.78 2.81-2.81c.8-.78.8-2.07 0-2.86zM5.41 20L4 18.59l7.72-7.72 1.47 1.35L5.41 20z\"/>\n",
              "  </svg>\n",
              "      </button>\n",
              "      \n",
              "  <style>\n",
              "    .colab-df-container {\n",
              "      display:flex;\n",
              "      flex-wrap:wrap;\n",
              "      gap: 12px;\n",
              "    }\n",
              "\n",
              "    .colab-df-convert {\n",
              "      background-color: #E8F0FE;\n",
              "      border: none;\n",
              "      border-radius: 50%;\n",
              "      cursor: pointer;\n",
              "      display: none;\n",
              "      fill: #1967D2;\n",
              "      height: 32px;\n",
              "      padding: 0 0 0 0;\n",
              "      width: 32px;\n",
              "    }\n",
              "\n",
              "    .colab-df-convert:hover {\n",
              "      background-color: #E2EBFA;\n",
              "      box-shadow: 0px 1px 2px rgba(60, 64, 67, 0.3), 0px 1px 3px 1px rgba(60, 64, 67, 0.15);\n",
              "      fill: #174EA6;\n",
              "    }\n",
              "\n",
              "    [theme=dark] .colab-df-convert {\n",
              "      background-color: #3B4455;\n",
              "      fill: #D2E3FC;\n",
              "    }\n",
              "\n",
              "    [theme=dark] .colab-df-convert:hover {\n",
              "      background-color: #434B5C;\n",
              "      box-shadow: 0px 1px 3px 1px rgba(0, 0, 0, 0.15);\n",
              "      filter: drop-shadow(0px 1px 2px rgba(0, 0, 0, 0.3));\n",
              "      fill: #FFFFFF;\n",
              "    }\n",
              "  </style>\n",
              "\n",
              "      <script>\n",
              "        const buttonEl =\n",
              "          document.querySelector('#df-c8361118-a0ff-43db-91e0-a51d9da55e73 button.colab-df-convert');\n",
              "        buttonEl.style.display =\n",
              "          google.colab.kernel.accessAllowed ? 'block' : 'none';\n",
              "\n",
              "        async function convertToInteractive(key) {\n",
              "          const element = document.querySelector('#df-c8361118-a0ff-43db-91e0-a51d9da55e73');\n",
              "          const dataTable =\n",
              "            await google.colab.kernel.invokeFunction('convertToInteractive',\n",
              "                                                     [key], {});\n",
              "          if (!dataTable) return;\n",
              "\n",
              "          const docLinkHtml = 'Like what you see? Visit the ' +\n",
              "            '<a target=\"_blank\" href=https://colab.research.google.com/notebooks/data_table.ipynb>data table notebook</a>'\n",
              "            + ' to learn more about interactive tables.';\n",
              "          element.innerHTML = '';\n",
              "          dataTable['output_type'] = 'display_data';\n",
              "          await google.colab.output.renderOutput(dataTable, element);\n",
              "          const docLink = document.createElement('div');\n",
              "          docLink.innerHTML = docLinkHtml;\n",
              "          element.appendChild(docLink);\n",
              "        }\n",
              "      </script>\n",
              "    </div>\n",
              "  </div>\n",
              "  "
            ]
          },
          "metadata": {},
          "execution_count": 34
        }
      ]
    },
    {
      "cell_type": "code",
      "source": [
        "#Column names in dataset\n",
        "df.columns"
      ],
      "metadata": {
        "colab": {
          "base_uri": "https://localhost:8080/"
        },
        "id": "wyEb3scUnK-t",
        "outputId": "7abc3203-437c-4fa0-e281-5805e5717352"
      },
      "execution_count": null,
      "outputs": [
        {
          "output_type": "execute_result",
          "data": {
            "text/plain": [
              "Index(['Node Number', 'Thread Number', 'Spatial Distribution',\n",
              "       'Temporal Distribution', 'T/R', 'Processor Utilization ',\n",
              "       'Channel Waiting Time', 'Input Waiting Time', 'Network Response Time',\n",
              "       'Channel Utilization'],\n",
              "      dtype='object')"
            ]
          },
          "metadata": {},
          "execution_count": 35
        }
      ]
    },
    {
      "cell_type": "code",
      "source": [
        "#before normalizing part we have to convert some categorical valued features into \n",
        "#numeric representation with label encoding\n",
        "le = LabelEncoder()\n",
        "label = le.fit_transform(df['Spatial Distribution'])\n",
        "label2 = le.fit_transform(df['Temporal Distribution'])\n",
        "df.drop(\"Spatial Distribution\", axis = 1, inplace = True)\n",
        "df[\"Spatial Distribution\"] = label\n",
        "df.drop(\"Temporal Distribution\", axis = 1, inplace = True)\n",
        "df[\"Temporal Distribution\"] = label2\n",
        "df"
      ],
      "metadata": {
        "colab": {
          "base_uri": "https://localhost:8080/",
          "height": 485
        },
        "id": "48l2-HgOnb9t",
        "outputId": "fb393d66-ffe5-4df9-b70f-130294a0af61"
      },
      "execution_count": null,
      "outputs": [
        {
          "output_type": "execute_result",
          "data": {
            "text/plain": [
              "     Node Number  Thread Number  T/R Processor Utilization   \\\n",
              "0             64              4  0,1               0,839546   \n",
              "1             64              4  0,2               0,827412   \n",
              "2             64              4  0,3               0,802605   \n",
              "3             64              4  0,4               0,723403   \n",
              "4             64              4  0,5                0,72121   \n",
              "..           ...            ...  ...                    ...   \n",
              "635           16             10  0,6                0,79234   \n",
              "636           16             10  0,7               0,707199   \n",
              "637           16             10  0,8                0,61823   \n",
              "638           16             10  0,9               0,564482   \n",
              "639           16             10    1               0,515257   \n",
              "\n",
              "    Channel Waiting Time Input Waiting Time Network Response Time  \\\n",
              "0              1,974,686        308,491,814           700,514,102   \n",
              "1              9,556,437        291,037,663           864,599,227   \n",
              "2             27,027,618        264,928,002           839,372,851   \n",
              "3             61,848,511        235,776,888         1,256,053,108   \n",
              "4            121,085,884        189,680,044         1,343,875,577   \n",
              "..                   ...                ...                   ...   \n",
              "635          532,737,732        363,094,043         1,214,057,768   \n",
              "636           75,167,511        224,638,088         1,653,736,882   \n",
              "637          905,326,843        206,922,631         1,421,304,936   \n",
              "638        1,048,269,897        154,713,952         2,371,043,062   \n",
              "639        1,184,647,461        136,375,081         2,592,966,463   \n",
              "\n",
              "    Channel Utilization  Spatial Distribution  Temporal Distribution  \n",
              "0              0,352431                     3                      1  \n",
              "1              0,506302                     3                      1  \n",
              "2              0,638516                     3                      1  \n",
              "3              0,767051                     3                      1  \n",
              "4              0,807812                     3                      1  \n",
              "..                  ...                   ...                    ...  \n",
              "635            0,961042                     2                      0  \n",
              "636            0,981944                     2                      0  \n",
              "637              0,9625                     2                      0  \n",
              "638            0,979375                     2                      0  \n",
              "639            0,980903                     2                      0  \n",
              "\n",
              "[640 rows x 10 columns]"
            ],
            "text/html": [
              "\n",
              "  <div id=\"df-d62ce6b0-5fa2-434d-9d93-ca3b31a596a3\">\n",
              "    <div class=\"colab-df-container\">\n",
              "      <div>\n",
              "<style scoped>\n",
              "    .dataframe tbody tr th:only-of-type {\n",
              "        vertical-align: middle;\n",
              "    }\n",
              "\n",
              "    .dataframe tbody tr th {\n",
              "        vertical-align: top;\n",
              "    }\n",
              "\n",
              "    .dataframe thead th {\n",
              "        text-align: right;\n",
              "    }\n",
              "</style>\n",
              "<table border=\"1\" class=\"dataframe\">\n",
              "  <thead>\n",
              "    <tr style=\"text-align: right;\">\n",
              "      <th></th>\n",
              "      <th>Node Number</th>\n",
              "      <th>Thread Number</th>\n",
              "      <th>T/R</th>\n",
              "      <th>Processor Utilization</th>\n",
              "      <th>Channel Waiting Time</th>\n",
              "      <th>Input Waiting Time</th>\n",
              "      <th>Network Response Time</th>\n",
              "      <th>Channel Utilization</th>\n",
              "      <th>Spatial Distribution</th>\n",
              "      <th>Temporal Distribution</th>\n",
              "    </tr>\n",
              "  </thead>\n",
              "  <tbody>\n",
              "    <tr>\n",
              "      <th>0</th>\n",
              "      <td>64</td>\n",
              "      <td>4</td>\n",
              "      <td>0,1</td>\n",
              "      <td>0,839546</td>\n",
              "      <td>1,974,686</td>\n",
              "      <td>308,491,814</td>\n",
              "      <td>700,514,102</td>\n",
              "      <td>0,352431</td>\n",
              "      <td>3</td>\n",
              "      <td>1</td>\n",
              "    </tr>\n",
              "    <tr>\n",
              "      <th>1</th>\n",
              "      <td>64</td>\n",
              "      <td>4</td>\n",
              "      <td>0,2</td>\n",
              "      <td>0,827412</td>\n",
              "      <td>9,556,437</td>\n",
              "      <td>291,037,663</td>\n",
              "      <td>864,599,227</td>\n",
              "      <td>0,506302</td>\n",
              "      <td>3</td>\n",
              "      <td>1</td>\n",
              "    </tr>\n",
              "    <tr>\n",
              "      <th>2</th>\n",
              "      <td>64</td>\n",
              "      <td>4</td>\n",
              "      <td>0,3</td>\n",
              "      <td>0,802605</td>\n",
              "      <td>27,027,618</td>\n",
              "      <td>264,928,002</td>\n",
              "      <td>839,372,851</td>\n",
              "      <td>0,638516</td>\n",
              "      <td>3</td>\n",
              "      <td>1</td>\n",
              "    </tr>\n",
              "    <tr>\n",
              "      <th>3</th>\n",
              "      <td>64</td>\n",
              "      <td>4</td>\n",
              "      <td>0,4</td>\n",
              "      <td>0,723403</td>\n",
              "      <td>61,848,511</td>\n",
              "      <td>235,776,888</td>\n",
              "      <td>1,256,053,108</td>\n",
              "      <td>0,767051</td>\n",
              "      <td>3</td>\n",
              "      <td>1</td>\n",
              "    </tr>\n",
              "    <tr>\n",
              "      <th>4</th>\n",
              "      <td>64</td>\n",
              "      <td>4</td>\n",
              "      <td>0,5</td>\n",
              "      <td>0,72121</td>\n",
              "      <td>121,085,884</td>\n",
              "      <td>189,680,044</td>\n",
              "      <td>1,343,875,577</td>\n",
              "      <td>0,807812</td>\n",
              "      <td>3</td>\n",
              "      <td>1</td>\n",
              "    </tr>\n",
              "    <tr>\n",
              "      <th>...</th>\n",
              "      <td>...</td>\n",
              "      <td>...</td>\n",
              "      <td>...</td>\n",
              "      <td>...</td>\n",
              "      <td>...</td>\n",
              "      <td>...</td>\n",
              "      <td>...</td>\n",
              "      <td>...</td>\n",
              "      <td>...</td>\n",
              "      <td>...</td>\n",
              "    </tr>\n",
              "    <tr>\n",
              "      <th>635</th>\n",
              "      <td>16</td>\n",
              "      <td>10</td>\n",
              "      <td>0,6</td>\n",
              "      <td>0,79234</td>\n",
              "      <td>532,737,732</td>\n",
              "      <td>363,094,043</td>\n",
              "      <td>1,214,057,768</td>\n",
              "      <td>0,961042</td>\n",
              "      <td>2</td>\n",
              "      <td>0</td>\n",
              "    </tr>\n",
              "    <tr>\n",
              "      <th>636</th>\n",
              "      <td>16</td>\n",
              "      <td>10</td>\n",
              "      <td>0,7</td>\n",
              "      <td>0,707199</td>\n",
              "      <td>75,167,511</td>\n",
              "      <td>224,638,088</td>\n",
              "      <td>1,653,736,882</td>\n",
              "      <td>0,981944</td>\n",
              "      <td>2</td>\n",
              "      <td>0</td>\n",
              "    </tr>\n",
              "    <tr>\n",
              "      <th>637</th>\n",
              "      <td>16</td>\n",
              "      <td>10</td>\n",
              "      <td>0,8</td>\n",
              "      <td>0,61823</td>\n",
              "      <td>905,326,843</td>\n",
              "      <td>206,922,631</td>\n",
              "      <td>1,421,304,936</td>\n",
              "      <td>0,9625</td>\n",
              "      <td>2</td>\n",
              "      <td>0</td>\n",
              "    </tr>\n",
              "    <tr>\n",
              "      <th>638</th>\n",
              "      <td>16</td>\n",
              "      <td>10</td>\n",
              "      <td>0,9</td>\n",
              "      <td>0,564482</td>\n",
              "      <td>1,048,269,897</td>\n",
              "      <td>154,713,952</td>\n",
              "      <td>2,371,043,062</td>\n",
              "      <td>0,979375</td>\n",
              "      <td>2</td>\n",
              "      <td>0</td>\n",
              "    </tr>\n",
              "    <tr>\n",
              "      <th>639</th>\n",
              "      <td>16</td>\n",
              "      <td>10</td>\n",
              "      <td>1</td>\n",
              "      <td>0,515257</td>\n",
              "      <td>1,184,647,461</td>\n",
              "      <td>136,375,081</td>\n",
              "      <td>2,592,966,463</td>\n",
              "      <td>0,980903</td>\n",
              "      <td>2</td>\n",
              "      <td>0</td>\n",
              "    </tr>\n",
              "  </tbody>\n",
              "</table>\n",
              "<p>640 rows × 10 columns</p>\n",
              "</div>\n",
              "      <button class=\"colab-df-convert\" onclick=\"convertToInteractive('df-d62ce6b0-5fa2-434d-9d93-ca3b31a596a3')\"\n",
              "              title=\"Convert this dataframe to an interactive table.\"\n",
              "              style=\"display:none;\">\n",
              "        \n",
              "  <svg xmlns=\"http://www.w3.org/2000/svg\" height=\"24px\"viewBox=\"0 0 24 24\"\n",
              "       width=\"24px\">\n",
              "    <path d=\"M0 0h24v24H0V0z\" fill=\"none\"/>\n",
              "    <path d=\"M18.56 5.44l.94 2.06.94-2.06 2.06-.94-2.06-.94-.94-2.06-.94 2.06-2.06.94zm-11 1L8.5 8.5l.94-2.06 2.06-.94-2.06-.94L8.5 2.5l-.94 2.06-2.06.94zm10 10l.94 2.06.94-2.06 2.06-.94-2.06-.94-.94-2.06-.94 2.06-2.06.94z\"/><path d=\"M17.41 7.96l-1.37-1.37c-.4-.4-.92-.59-1.43-.59-.52 0-1.04.2-1.43.59L10.3 9.45l-7.72 7.72c-.78.78-.78 2.05 0 2.83L4 21.41c.39.39.9.59 1.41.59.51 0 1.02-.2 1.41-.59l7.78-7.78 2.81-2.81c.8-.78.8-2.07 0-2.86zM5.41 20L4 18.59l7.72-7.72 1.47 1.35L5.41 20z\"/>\n",
              "  </svg>\n",
              "      </button>\n",
              "      \n",
              "  <style>\n",
              "    .colab-df-container {\n",
              "      display:flex;\n",
              "      flex-wrap:wrap;\n",
              "      gap: 12px;\n",
              "    }\n",
              "\n",
              "    .colab-df-convert {\n",
              "      background-color: #E8F0FE;\n",
              "      border: none;\n",
              "      border-radius: 50%;\n",
              "      cursor: pointer;\n",
              "      display: none;\n",
              "      fill: #1967D2;\n",
              "      height: 32px;\n",
              "      padding: 0 0 0 0;\n",
              "      width: 32px;\n",
              "    }\n",
              "\n",
              "    .colab-df-convert:hover {\n",
              "      background-color: #E2EBFA;\n",
              "      box-shadow: 0px 1px 2px rgba(60, 64, 67, 0.3), 0px 1px 3px 1px rgba(60, 64, 67, 0.15);\n",
              "      fill: #174EA6;\n",
              "    }\n",
              "\n",
              "    [theme=dark] .colab-df-convert {\n",
              "      background-color: #3B4455;\n",
              "      fill: #D2E3FC;\n",
              "    }\n",
              "\n",
              "    [theme=dark] .colab-df-convert:hover {\n",
              "      background-color: #434B5C;\n",
              "      box-shadow: 0px 1px 3px 1px rgba(0, 0, 0, 0.15);\n",
              "      filter: drop-shadow(0px 1px 2px rgba(0, 0, 0, 0.3));\n",
              "      fill: #FFFFFF;\n",
              "    }\n",
              "  </style>\n",
              "\n",
              "      <script>\n",
              "        const buttonEl =\n",
              "          document.querySelector('#df-d62ce6b0-5fa2-434d-9d93-ca3b31a596a3 button.colab-df-convert');\n",
              "        buttonEl.style.display =\n",
              "          google.colab.kernel.accessAllowed ? 'block' : 'none';\n",
              "\n",
              "        async function convertToInteractive(key) {\n",
              "          const element = document.querySelector('#df-d62ce6b0-5fa2-434d-9d93-ca3b31a596a3');\n",
              "          const dataTable =\n",
              "            await google.colab.kernel.invokeFunction('convertToInteractive',\n",
              "                                                     [key], {});\n",
              "          if (!dataTable) return;\n",
              "\n",
              "          const docLinkHtml = 'Like what you see? Visit the ' +\n",
              "            '<a target=\"_blank\" href=https://colab.research.google.com/notebooks/data_table.ipynb>data table notebook</a>'\n",
              "            + ' to learn more about interactive tables.';\n",
              "          element.innerHTML = '';\n",
              "          dataTable['output_type'] = 'display_data';\n",
              "          await google.colab.output.renderOutput(dataTable, element);\n",
              "          const docLink = document.createElement('div');\n",
              "          docLink.innerHTML = docLinkHtml;\n",
              "          element.appendChild(docLink);\n",
              "        }\n",
              "      </script>\n",
              "    </div>\n",
              "  </div>\n",
              "  "
            ]
          },
          "metadata": {},
          "execution_count": 86
        }
      ]
    },
    {
      "cell_type": "code",
      "source": [
        "#in these columns instead of \",\", \".\" has been written for ratio numbers. for example 0,4 instead of 0.5\n",
        "for x in range(len(df['T/R'])):\n",
        "   df['T/R'][x] = df['T/R'][x].replace(\",\",\".\")\n",
        "   \n",
        "for x in range(len(df['Processor Utilization '])):\n",
        "   df['Processor Utilization '][x] = df['Processor Utilization '][x].replace(\",\",\".\") \n",
        "\n",
        "for x in range(len(df['Channel Utilization'])):\n",
        "   df['Channel Utilization'][x] = df['Channel Utilization'][x].replace(\",\",\".\")"
      ],
      "metadata": {
        "id": "P8_y6ny1-6P2",
        "colab": {
          "base_uri": "https://localhost:8080/"
        },
        "outputId": "23521ac3-6d92-43f0-c81b-6c0f05c35458"
      },
      "execution_count": null,
      "outputs": [
        {
          "output_type": "stream",
          "name": "stderr",
          "text": [
            "<ipython-input-87-963424fd6e78>:3: SettingWithCopyWarning: \n",
            "A value is trying to be set on a copy of a slice from a DataFrame\n",
            "\n",
            "See the caveats in the documentation: https://pandas.pydata.org/pandas-docs/stable/user_guide/indexing.html#returning-a-view-versus-a-copy\n",
            "  df['T/R'][x] = df['T/R'][x].replace(\",\",\".\")\n",
            "<ipython-input-87-963424fd6e78>:6: SettingWithCopyWarning: \n",
            "A value is trying to be set on a copy of a slice from a DataFrame\n",
            "\n",
            "See the caveats in the documentation: https://pandas.pydata.org/pandas-docs/stable/user_guide/indexing.html#returning-a-view-versus-a-copy\n",
            "  df['Processor Utilization '][x] = df['Processor Utilization '][x].replace(\",\",\".\")\n",
            "<ipython-input-87-963424fd6e78>:9: SettingWithCopyWarning: \n",
            "A value is trying to be set on a copy of a slice from a DataFrame\n",
            "\n",
            "See the caveats in the documentation: https://pandas.pydata.org/pandas-docs/stable/user_guide/indexing.html#returning-a-view-versus-a-copy\n",
            "  df['Channel Utilization'][x] = df['Channel Utilization'][x].replace(\",\",\".\")\n"
          ]
        }
      ]
    },
    {
      "cell_type": "code",
      "source": [
        "#in these columns we just remove ',' sign to represent large numbers as integer\n",
        "#for example instead of 1,111,234 we write as 11111234\n",
        "for x in range(len(df['Channel Waiting Time'])):\n",
        "   df['Channel Waiting Time'][x] = df['Channel Waiting Time'][x].replace(\",\",\"\")\n",
        "\n",
        "for x in range(len(df['Input Waiting Time'])):\n",
        "   df['Input Waiting Time'][x] = df['Input Waiting Time'][x].replace(\",\",\"\")\n",
        "\n",
        "for x in range(len(df['Network Response Time'])):\n",
        "   df['Network Response Time'][x] = df['Network Response Time'][x].replace(\",\",\"\")\n",
        "   "
      ],
      "metadata": {
        "id": "xGQ2q2IQBaK9",
        "colab": {
          "base_uri": "https://localhost:8080/"
        },
        "outputId": "afbd08e0-1b6a-42e5-d839-55f246665244"
      },
      "execution_count": null,
      "outputs": [
        {
          "output_type": "stream",
          "name": "stderr",
          "text": [
            "<ipython-input-88-4c14935e8d06>:4: SettingWithCopyWarning: \n",
            "A value is trying to be set on a copy of a slice from a DataFrame\n",
            "\n",
            "See the caveats in the documentation: https://pandas.pydata.org/pandas-docs/stable/user_guide/indexing.html#returning-a-view-versus-a-copy\n",
            "  df['Channel Waiting Time'][x] = df['Channel Waiting Time'][x].replace(\",\",\"\")\n",
            "<ipython-input-88-4c14935e8d06>:7: SettingWithCopyWarning: \n",
            "A value is trying to be set on a copy of a slice from a DataFrame\n",
            "\n",
            "See the caveats in the documentation: https://pandas.pydata.org/pandas-docs/stable/user_guide/indexing.html#returning-a-view-versus-a-copy\n",
            "  df['Input Waiting Time'][x] = df['Input Waiting Time'][x].replace(\",\",\"\")\n",
            "<ipython-input-88-4c14935e8d06>:10: SettingWithCopyWarning: \n",
            "A value is trying to be set on a copy of a slice from a DataFrame\n",
            "\n",
            "See the caveats in the documentation: https://pandas.pydata.org/pandas-docs/stable/user_guide/indexing.html#returning-a-view-versus-a-copy\n",
            "  df['Network Response Time'][x] = df['Network Response Time'][x].replace(\",\",\"\")\n"
          ]
        }
      ]
    },
    {
      "cell_type": "code",
      "source": [
        "df.head()"
      ],
      "metadata": {
        "colab": {
          "base_uri": "https://localhost:8080/",
          "height": 267
        },
        "id": "g_P56uY3MKN2",
        "outputId": "b8c3e22b-829a-4df8-c0d3-9431db77b0a7"
      },
      "execution_count": null,
      "outputs": [
        {
          "output_type": "execute_result",
          "data": {
            "text/plain": [
              "   Node Number  Thread Number  T/R Processor Utilization   \\\n",
              "0           64              4  0.1               0.839546   \n",
              "1           64              4  0.2               0.827412   \n",
              "2           64              4  0.3               0.802605   \n",
              "3           64              4  0.4               0.723403   \n",
              "4           64              4  0.5                0.72121   \n",
              "\n",
              "  Channel Waiting Time Input Waiting Time Network Response Time  \\\n",
              "0              1974686          308491814             700514102   \n",
              "1              9556437          291037663             864599227   \n",
              "2             27027618          264928002             839372851   \n",
              "3             61848511          235776888            1256053108   \n",
              "4            121085884          189680044            1343875577   \n",
              "\n",
              "  Channel Utilization  Spatial Distribution  Temporal Distribution  \n",
              "0            0.352431                     3                      1  \n",
              "1            0.506302                     3                      1  \n",
              "2            0.638516                     3                      1  \n",
              "3            0.767051                     3                      1  \n",
              "4            0.807812                     3                      1  "
            ],
            "text/html": [
              "\n",
              "  <div id=\"df-211b8ad1-44f7-47f9-84fc-a8ce22ddff18\">\n",
              "    <div class=\"colab-df-container\">\n",
              "      <div>\n",
              "<style scoped>\n",
              "    .dataframe tbody tr th:only-of-type {\n",
              "        vertical-align: middle;\n",
              "    }\n",
              "\n",
              "    .dataframe tbody tr th {\n",
              "        vertical-align: top;\n",
              "    }\n",
              "\n",
              "    .dataframe thead th {\n",
              "        text-align: right;\n",
              "    }\n",
              "</style>\n",
              "<table border=\"1\" class=\"dataframe\">\n",
              "  <thead>\n",
              "    <tr style=\"text-align: right;\">\n",
              "      <th></th>\n",
              "      <th>Node Number</th>\n",
              "      <th>Thread Number</th>\n",
              "      <th>T/R</th>\n",
              "      <th>Processor Utilization</th>\n",
              "      <th>Channel Waiting Time</th>\n",
              "      <th>Input Waiting Time</th>\n",
              "      <th>Network Response Time</th>\n",
              "      <th>Channel Utilization</th>\n",
              "      <th>Spatial Distribution</th>\n",
              "      <th>Temporal Distribution</th>\n",
              "    </tr>\n",
              "  </thead>\n",
              "  <tbody>\n",
              "    <tr>\n",
              "      <th>0</th>\n",
              "      <td>64</td>\n",
              "      <td>4</td>\n",
              "      <td>0.1</td>\n",
              "      <td>0.839546</td>\n",
              "      <td>1974686</td>\n",
              "      <td>308491814</td>\n",
              "      <td>700514102</td>\n",
              "      <td>0.352431</td>\n",
              "      <td>3</td>\n",
              "      <td>1</td>\n",
              "    </tr>\n",
              "    <tr>\n",
              "      <th>1</th>\n",
              "      <td>64</td>\n",
              "      <td>4</td>\n",
              "      <td>0.2</td>\n",
              "      <td>0.827412</td>\n",
              "      <td>9556437</td>\n",
              "      <td>291037663</td>\n",
              "      <td>864599227</td>\n",
              "      <td>0.506302</td>\n",
              "      <td>3</td>\n",
              "      <td>1</td>\n",
              "    </tr>\n",
              "    <tr>\n",
              "      <th>2</th>\n",
              "      <td>64</td>\n",
              "      <td>4</td>\n",
              "      <td>0.3</td>\n",
              "      <td>0.802605</td>\n",
              "      <td>27027618</td>\n",
              "      <td>264928002</td>\n",
              "      <td>839372851</td>\n",
              "      <td>0.638516</td>\n",
              "      <td>3</td>\n",
              "      <td>1</td>\n",
              "    </tr>\n",
              "    <tr>\n",
              "      <th>3</th>\n",
              "      <td>64</td>\n",
              "      <td>4</td>\n",
              "      <td>0.4</td>\n",
              "      <td>0.723403</td>\n",
              "      <td>61848511</td>\n",
              "      <td>235776888</td>\n",
              "      <td>1256053108</td>\n",
              "      <td>0.767051</td>\n",
              "      <td>3</td>\n",
              "      <td>1</td>\n",
              "    </tr>\n",
              "    <tr>\n",
              "      <th>4</th>\n",
              "      <td>64</td>\n",
              "      <td>4</td>\n",
              "      <td>0.5</td>\n",
              "      <td>0.72121</td>\n",
              "      <td>121085884</td>\n",
              "      <td>189680044</td>\n",
              "      <td>1343875577</td>\n",
              "      <td>0.807812</td>\n",
              "      <td>3</td>\n",
              "      <td>1</td>\n",
              "    </tr>\n",
              "  </tbody>\n",
              "</table>\n",
              "</div>\n",
              "      <button class=\"colab-df-convert\" onclick=\"convertToInteractive('df-211b8ad1-44f7-47f9-84fc-a8ce22ddff18')\"\n",
              "              title=\"Convert this dataframe to an interactive table.\"\n",
              "              style=\"display:none;\">\n",
              "        \n",
              "  <svg xmlns=\"http://www.w3.org/2000/svg\" height=\"24px\"viewBox=\"0 0 24 24\"\n",
              "       width=\"24px\">\n",
              "    <path d=\"M0 0h24v24H0V0z\" fill=\"none\"/>\n",
              "    <path d=\"M18.56 5.44l.94 2.06.94-2.06 2.06-.94-2.06-.94-.94-2.06-.94 2.06-2.06.94zm-11 1L8.5 8.5l.94-2.06 2.06-.94-2.06-.94L8.5 2.5l-.94 2.06-2.06.94zm10 10l.94 2.06.94-2.06 2.06-.94-2.06-.94-.94-2.06-.94 2.06-2.06.94z\"/><path d=\"M17.41 7.96l-1.37-1.37c-.4-.4-.92-.59-1.43-.59-.52 0-1.04.2-1.43.59L10.3 9.45l-7.72 7.72c-.78.78-.78 2.05 0 2.83L4 21.41c.39.39.9.59 1.41.59.51 0 1.02-.2 1.41-.59l7.78-7.78 2.81-2.81c.8-.78.8-2.07 0-2.86zM5.41 20L4 18.59l7.72-7.72 1.47 1.35L5.41 20z\"/>\n",
              "  </svg>\n",
              "      </button>\n",
              "      \n",
              "  <style>\n",
              "    .colab-df-container {\n",
              "      display:flex;\n",
              "      flex-wrap:wrap;\n",
              "      gap: 12px;\n",
              "    }\n",
              "\n",
              "    .colab-df-convert {\n",
              "      background-color: #E8F0FE;\n",
              "      border: none;\n",
              "      border-radius: 50%;\n",
              "      cursor: pointer;\n",
              "      display: none;\n",
              "      fill: #1967D2;\n",
              "      height: 32px;\n",
              "      padding: 0 0 0 0;\n",
              "      width: 32px;\n",
              "    }\n",
              "\n",
              "    .colab-df-convert:hover {\n",
              "      background-color: #E2EBFA;\n",
              "      box-shadow: 0px 1px 2px rgba(60, 64, 67, 0.3), 0px 1px 3px 1px rgba(60, 64, 67, 0.15);\n",
              "      fill: #174EA6;\n",
              "    }\n",
              "\n",
              "    [theme=dark] .colab-df-convert {\n",
              "      background-color: #3B4455;\n",
              "      fill: #D2E3FC;\n",
              "    }\n",
              "\n",
              "    [theme=dark] .colab-df-convert:hover {\n",
              "      background-color: #434B5C;\n",
              "      box-shadow: 0px 1px 3px 1px rgba(0, 0, 0, 0.15);\n",
              "      filter: drop-shadow(0px 1px 2px rgba(0, 0, 0, 0.3));\n",
              "      fill: #FFFFFF;\n",
              "    }\n",
              "  </style>\n",
              "\n",
              "      <script>\n",
              "        const buttonEl =\n",
              "          document.querySelector('#df-211b8ad1-44f7-47f9-84fc-a8ce22ddff18 button.colab-df-convert');\n",
              "        buttonEl.style.display =\n",
              "          google.colab.kernel.accessAllowed ? 'block' : 'none';\n",
              "\n",
              "        async function convertToInteractive(key) {\n",
              "          const element = document.querySelector('#df-211b8ad1-44f7-47f9-84fc-a8ce22ddff18');\n",
              "          const dataTable =\n",
              "            await google.colab.kernel.invokeFunction('convertToInteractive',\n",
              "                                                     [key], {});\n",
              "          if (!dataTable) return;\n",
              "\n",
              "          const docLinkHtml = 'Like what you see? Visit the ' +\n",
              "            '<a target=\"_blank\" href=https://colab.research.google.com/notebooks/data_table.ipynb>data table notebook</a>'\n",
              "            + ' to learn more about interactive tables.';\n",
              "          element.innerHTML = '';\n",
              "          dataTable['output_type'] = 'display_data';\n",
              "          await google.colab.output.renderOutput(dataTable, element);\n",
              "          const docLink = document.createElement('div');\n",
              "          docLink.innerHTML = docLinkHtml;\n",
              "          element.appendChild(docLink);\n",
              "        }\n",
              "      </script>\n",
              "    </div>\n",
              "  </div>\n",
              "  "
            ]
          },
          "metadata": {},
          "execution_count": 18
        }
      ]
    },
    {
      "cell_type": "code",
      "source": [
        "#normalizing with minmax method\n",
        "df2 = df.copy()\n",
        "scaler = MinMaxScaler()\n",
        "scaler.fit(df)\n",
        "scaled = scaler.fit_transform(df)\n",
        "df = pd.DataFrame(scaled, columns = df.columns)"
      ],
      "metadata": {
        "id": "jYOjgq2roZ7i"
      },
      "execution_count": null,
      "outputs": []
    },
    {
      "cell_type": "code",
      "source": [
        "for x in df.columns:\n",
        "  df[x] = df[x].astype(float)\n",
        "#df['Spatial Distribution'] = df2['Spatial Distribution']\n",
        "df['Temporal Distribution'] = df2['Temporal Distribution']\n",
        "df.head()"
      ],
      "metadata": {
        "colab": {
          "base_uri": "https://localhost:8080/",
          "height": 267
        },
        "id": "ncg5Nax_pXds",
        "outputId": "7ee2e351-b641-4733-c7db-03026c58b844"
      },
      "execution_count": null,
      "outputs": [
        {
          "output_type": "execute_result",
          "data": {
            "text/plain": [
              "   Node Number  Thread Number       T/R  Processor Utilization   \\\n",
              "0          1.0            0.0  0.000000                0.812571   \n",
              "1          1.0            0.0  0.111111                0.797097   \n",
              "2          1.0            0.0  0.222222                0.765461   \n",
              "3          1.0            0.0  0.333333                0.664456   \n",
              "4          1.0            0.0  0.444444                0.661659   \n",
              "\n",
              "   Channel Waiting Time  Input Waiting Time  Network Response Time  \\\n",
              "0              0.001203            0.345479               0.115393   \n",
              "1              0.005862            0.325930               0.142447   \n",
              "2              0.016598            0.296685               0.138287   \n",
              "3              0.037996            0.264034               0.206989   \n",
              "4              0.074398            0.212403               0.221469   \n",
              "\n",
              "   Channel Utilization  Spatial Distribution  Temporal Distribution  \n",
              "0             0.252483                   1.0                      1  \n",
              "1             0.432801                   1.0                      1  \n",
              "2             0.587739                   1.0                      1  \n",
              "3             0.738366                   1.0                      1  \n",
              "4             0.786133                   1.0                      1  "
            ],
            "text/html": [
              "\n",
              "  <div id=\"df-68d86753-724a-4739-afff-84225b092d52\">\n",
              "    <div class=\"colab-df-container\">\n",
              "      <div>\n",
              "<style scoped>\n",
              "    .dataframe tbody tr th:only-of-type {\n",
              "        vertical-align: middle;\n",
              "    }\n",
              "\n",
              "    .dataframe tbody tr th {\n",
              "        vertical-align: top;\n",
              "    }\n",
              "\n",
              "    .dataframe thead th {\n",
              "        text-align: right;\n",
              "    }\n",
              "</style>\n",
              "<table border=\"1\" class=\"dataframe\">\n",
              "  <thead>\n",
              "    <tr style=\"text-align: right;\">\n",
              "      <th></th>\n",
              "      <th>Node Number</th>\n",
              "      <th>Thread Number</th>\n",
              "      <th>T/R</th>\n",
              "      <th>Processor Utilization</th>\n",
              "      <th>Channel Waiting Time</th>\n",
              "      <th>Input Waiting Time</th>\n",
              "      <th>Network Response Time</th>\n",
              "      <th>Channel Utilization</th>\n",
              "      <th>Spatial Distribution</th>\n",
              "      <th>Temporal Distribution</th>\n",
              "    </tr>\n",
              "  </thead>\n",
              "  <tbody>\n",
              "    <tr>\n",
              "      <th>0</th>\n",
              "      <td>1.0</td>\n",
              "      <td>0.0</td>\n",
              "      <td>0.000000</td>\n",
              "      <td>0.812571</td>\n",
              "      <td>0.001203</td>\n",
              "      <td>0.345479</td>\n",
              "      <td>0.115393</td>\n",
              "      <td>0.252483</td>\n",
              "      <td>1.0</td>\n",
              "      <td>1</td>\n",
              "    </tr>\n",
              "    <tr>\n",
              "      <th>1</th>\n",
              "      <td>1.0</td>\n",
              "      <td>0.0</td>\n",
              "      <td>0.111111</td>\n",
              "      <td>0.797097</td>\n",
              "      <td>0.005862</td>\n",
              "      <td>0.325930</td>\n",
              "      <td>0.142447</td>\n",
              "      <td>0.432801</td>\n",
              "      <td>1.0</td>\n",
              "      <td>1</td>\n",
              "    </tr>\n",
              "    <tr>\n",
              "      <th>2</th>\n",
              "      <td>1.0</td>\n",
              "      <td>0.0</td>\n",
              "      <td>0.222222</td>\n",
              "      <td>0.765461</td>\n",
              "      <td>0.016598</td>\n",
              "      <td>0.296685</td>\n",
              "      <td>0.138287</td>\n",
              "      <td>0.587739</td>\n",
              "      <td>1.0</td>\n",
              "      <td>1</td>\n",
              "    </tr>\n",
              "    <tr>\n",
              "      <th>3</th>\n",
              "      <td>1.0</td>\n",
              "      <td>0.0</td>\n",
              "      <td>0.333333</td>\n",
              "      <td>0.664456</td>\n",
              "      <td>0.037996</td>\n",
              "      <td>0.264034</td>\n",
              "      <td>0.206989</td>\n",
              "      <td>0.738366</td>\n",
              "      <td>1.0</td>\n",
              "      <td>1</td>\n",
              "    </tr>\n",
              "    <tr>\n",
              "      <th>4</th>\n",
              "      <td>1.0</td>\n",
              "      <td>0.0</td>\n",
              "      <td>0.444444</td>\n",
              "      <td>0.661659</td>\n",
              "      <td>0.074398</td>\n",
              "      <td>0.212403</td>\n",
              "      <td>0.221469</td>\n",
              "      <td>0.786133</td>\n",
              "      <td>1.0</td>\n",
              "      <td>1</td>\n",
              "    </tr>\n",
              "  </tbody>\n",
              "</table>\n",
              "</div>\n",
              "      <button class=\"colab-df-convert\" onclick=\"convertToInteractive('df-68d86753-724a-4739-afff-84225b092d52')\"\n",
              "              title=\"Convert this dataframe to an interactive table.\"\n",
              "              style=\"display:none;\">\n",
              "        \n",
              "  <svg xmlns=\"http://www.w3.org/2000/svg\" height=\"24px\"viewBox=\"0 0 24 24\"\n",
              "       width=\"24px\">\n",
              "    <path d=\"M0 0h24v24H0V0z\" fill=\"none\"/>\n",
              "    <path d=\"M18.56 5.44l.94 2.06.94-2.06 2.06-.94-2.06-.94-.94-2.06-.94 2.06-2.06.94zm-11 1L8.5 8.5l.94-2.06 2.06-.94-2.06-.94L8.5 2.5l-.94 2.06-2.06.94zm10 10l.94 2.06.94-2.06 2.06-.94-2.06-.94-.94-2.06-.94 2.06-2.06.94z\"/><path d=\"M17.41 7.96l-1.37-1.37c-.4-.4-.92-.59-1.43-.59-.52 0-1.04.2-1.43.59L10.3 9.45l-7.72 7.72c-.78.78-.78 2.05 0 2.83L4 21.41c.39.39.9.59 1.41.59.51 0 1.02-.2 1.41-.59l7.78-7.78 2.81-2.81c.8-.78.8-2.07 0-2.86zM5.41 20L4 18.59l7.72-7.72 1.47 1.35L5.41 20z\"/>\n",
              "  </svg>\n",
              "      </button>\n",
              "      \n",
              "  <style>\n",
              "    .colab-df-container {\n",
              "      display:flex;\n",
              "      flex-wrap:wrap;\n",
              "      gap: 12px;\n",
              "    }\n",
              "\n",
              "    .colab-df-convert {\n",
              "      background-color: #E8F0FE;\n",
              "      border: none;\n",
              "      border-radius: 50%;\n",
              "      cursor: pointer;\n",
              "      display: none;\n",
              "      fill: #1967D2;\n",
              "      height: 32px;\n",
              "      padding: 0 0 0 0;\n",
              "      width: 32px;\n",
              "    }\n",
              "\n",
              "    .colab-df-convert:hover {\n",
              "      background-color: #E2EBFA;\n",
              "      box-shadow: 0px 1px 2px rgba(60, 64, 67, 0.3), 0px 1px 3px 1px rgba(60, 64, 67, 0.15);\n",
              "      fill: #174EA6;\n",
              "    }\n",
              "\n",
              "    [theme=dark] .colab-df-convert {\n",
              "      background-color: #3B4455;\n",
              "      fill: #D2E3FC;\n",
              "    }\n",
              "\n",
              "    [theme=dark] .colab-df-convert:hover {\n",
              "      background-color: #434B5C;\n",
              "      box-shadow: 0px 1px 3px 1px rgba(0, 0, 0, 0.15);\n",
              "      filter: drop-shadow(0px 1px 2px rgba(0, 0, 0, 0.3));\n",
              "      fill: #FFFFFF;\n",
              "    }\n",
              "  </style>\n",
              "\n",
              "      <script>\n",
              "        const buttonEl =\n",
              "          document.querySelector('#df-68d86753-724a-4739-afff-84225b092d52 button.colab-df-convert');\n",
              "        buttonEl.style.display =\n",
              "          google.colab.kernel.accessAllowed ? 'block' : 'none';\n",
              "\n",
              "        async function convertToInteractive(key) {\n",
              "          const element = document.querySelector('#df-68d86753-724a-4739-afff-84225b092d52');\n",
              "          const dataTable =\n",
              "            await google.colab.kernel.invokeFunction('convertToInteractive',\n",
              "                                                     [key], {});\n",
              "          if (!dataTable) return;\n",
              "\n",
              "          const docLinkHtml = 'Like what you see? Visit the ' +\n",
              "            '<a target=\"_blank\" href=https://colab.research.google.com/notebooks/data_table.ipynb>data table notebook</a>'\n",
              "            + ' to learn more about interactive tables.';\n",
              "          element.innerHTML = '';\n",
              "          dataTable['output_type'] = 'display_data';\n",
              "          await google.colab.output.renderOutput(dataTable, element);\n",
              "          const docLink = document.createElement('div');\n",
              "          docLink.innerHTML = docLinkHtml;\n",
              "          element.appendChild(docLink);\n",
              "        }\n",
              "      </script>\n",
              "    </div>\n",
              "  </div>\n",
              "  "
            ]
          },
          "metadata": {},
          "execution_count": 90
        }
      ]
    },
    {
      "cell_type": "code",
      "source": [
        "#we will do outlier analysis for only 4 columns using popular box plot method\n",
        "print(\"Old Shape: \", df.shape)\n",
        "\n",
        "for x in df.columns: \n",
        "  if x == 'Processor Utilization ' or x == 'Channel Waiting Time' or x == 'Input Waiting Time' or x =='Network Response Time':\n",
        "\n",
        "    Q1 = np.percentile(df[x], 25,\n",
        "                   interpolation = 'midpoint')\n",
        "    Q3 = np.percentile(df[x], 75,\n",
        "                   interpolation = 'midpoint')\n",
        "    IQR = Q3 - Q1\n",
        "\n",
        "    # Upper bound\n",
        "    upper = np.where(df[x] >= (Q3+1.5*IQR))\n",
        "    # Lower bound\n",
        "    lower = np.where(df[x] <= (Q1-1.5*IQR))\n",
        " \n",
        "    ''' Removing the Outliers '''\n",
        "    df.drop(upper[0], inplace = True)\n",
        "    df.drop(lower[0], inplace = True)\n",
        " \n",
        "print(\"New Shape: \", df.shape)"
      ],
      "metadata": {
        "colab": {
          "base_uri": "https://localhost:8080/"
        },
        "id": "yRw0WMw6vkiT",
        "outputId": "b7219b27-7f6f-4943-bc0f-43cb83d0c2cd"
      },
      "execution_count": null,
      "outputs": [
        {
          "output_type": "stream",
          "name": "stdout",
          "text": [
            "Old Shape:  (640, 10)\n",
            "New Shape:  (616, 10)\n"
          ]
        }
      ]
    },
    {
      "cell_type": "code",
      "source": [
        "X = df.drop([\"Temporal Distribution\"], axis = 1)\n",
        "y = df[\"Temporal Distribution\"]\n",
        "X_train, X_test, y_train, y_test = train_test_split(X, y, \n",
        "                                                    test_size=0.25, random_state=42)"
      ],
      "metadata": {
        "id": "rMJ46bHUMtXK"
      },
      "execution_count": null,
      "outputs": []
    },
    {
      "cell_type": "code",
      "source": [
        "y_train.unique()"
      ],
      "metadata": {
        "colab": {
          "base_uri": "https://localhost:8080/"
        },
        "id": "Qcf-cN2P2Ba3",
        "outputId": "092c763d-fcf5-4f7a-80e9-9fbde4140239"
      },
      "execution_count": null,
      "outputs": [
        {
          "output_type": "execute_result",
          "data": {
            "text/plain": [
              "array([0, 1])"
            ]
          },
          "metadata": {},
          "execution_count": 93
        }
      ]
    },
    {
      "cell_type": "code",
      "source": [
        "#OZELLIKLERIN ONEM DERECESINE GORE SIRALANMASINI XGB MODELINI KULLANARAK \n",
        "#GOSTEREBILIRIZ\n",
        "from xgboost import XGBClassifier\n",
        "\n",
        "model = XGBClassifier()\n",
        "model.fit(X_train, y_train)\n",
        "importances = pd.DataFrame(data={\n",
        "    'Attribute': X_train.columns,\n",
        "    'Importance': model.feature_importances_\n",
        "})\n",
        "importances = importances.sort_values(by='Importance', ascending=False)\n",
        "plt.bar(x=importances['Attribute'], height=importances['Importance'], color='#087E8B')\n",
        "plt.title('Feature importances obtained from coefficients', size=20)\n",
        "plt.xticks(rotation='vertical')\n",
        "plt.show()"
      ],
      "metadata": {
        "colab": {
          "base_uri": "https://localhost:8080/",
          "height": 396
        },
        "id": "myWQPv-74dIe",
        "outputId": "7b6a5c8b-04f8-4303-a7b3-7e2672059b98"
      },
      "execution_count": null,
      "outputs": [
        {
          "output_type": "display_data",
          "data": {
            "text/plain": [
              "<Figure size 432x288 with 1 Axes>"
            ],
            "image/png": "[encoded data removed]"
          },
          "metadata": {
            "needs_background": "light"
          }
        }
      ]
    },
    {
      "cell_type": "code",
      "source": [
        "#1st classification model type KNN with Cross Validation\n",
        "parameter_range = [3,5,7,9,11,13,15]\n",
        "for x in parameter_range:\n",
        "  knn = KNeighborsClassifier(n_neighbors=x)\n",
        "  cv_scores = cross_val_score(knn, X_train, y_train, cv=5)\n",
        "  print('neighbor number - > ', x, 'score -> ', np.mean(cv_scores))"
      ],
      "metadata": {
        "colab": {
          "base_uri": "https://localhost:8080/"
        },
        "id": "wgANNEcYvZXo",
        "outputId": "ab676cee-c840-46d5-817f-88d885197202"
      },
      "execution_count": null,
      "outputs": [
        {
          "output_type": "stream",
          "name": "stdout",
          "text": [
            "neighbor number - >  3 score ->  0.6839177185600748\n",
            "neighbor number - >  5 score ->  0.6968910705937355\n",
            "neighbor number - >  7 score ->  0.7293361383824217\n",
            "neighbor number - >  9 score ->  0.7359046283309958\n",
            "neighbor number - >  11 score ->  0.7270920991117344\n",
            "neighbor number - >  13 score ->  0.7186068256194484\n",
            "neighbor number - >  15 score ->  0.6970313230481533\n"
          ]
        }
      ]
    },
    {
      "cell_type": "code",
      "source": [
        "#we choose 15 as parameter\n",
        "knn = KNeighborsClassifier(n_neighbors = 15)\n",
        "knn.fit(X_train, y_train)\n",
        "print(\"parameter -> \",15,\"and the score -> \",knn.score(X_test, y_test))"
      ],
      "metadata": {
        "colab": {
          "base_uri": "https://localhost:8080/"
        },
        "id": "oai3bS_7zNMo",
        "outputId": "cf1c07c2-f9fd-4af9-9780-07d291460094"
      },
      "execution_count": null,
      "outputs": [
        {
          "output_type": "stream",
          "name": "stdout",
          "text": [
            "parameter ->  15 and the score ->  0.7727272727272727\n"
          ]
        }
      ]
    },
    {
      "cell_type": "code",
      "source": [
        "predict_train = knn.predict(X_train)\n",
        "print(confusion_matrix(y_train,predict_train))\n",
        "print(classification_report(y_train,predict_train))"
      ],
      "metadata": {
        "colab": {
          "base_uri": "https://localhost:8080/"
        },
        "id": "82Dnd3vyzYAX",
        "outputId": "9a6ef7ed-bc18-4cca-ed91-3c95cde0e828"
      },
      "execution_count": null,
      "outputs": [
        {
          "output_type": "stream",
          "name": "stdout",
          "text": [
            "[[217  23]\n",
            " [ 69 153]]\n",
            "              precision    recall  f1-score   support\n",
            "\n",
            "           0       0.76      0.90      0.83       240\n",
            "           1       0.87      0.69      0.77       222\n",
            "\n",
            "    accuracy                           0.80       462\n",
            "   macro avg       0.81      0.80      0.80       462\n",
            "weighted avg       0.81      0.80      0.80       462\n",
            "\n"
          ]
        }
      ]
    },
    {
      "cell_type": "code",
      "source": [
        "#Second model Naive Bayes\n",
        "model2 = GaussianNB()\n",
        "model2.fit(X_train, y_train)"
      ],
      "metadata": {
        "colab": {
          "base_uri": "https://localhost:8080/"
        },
        "id": "v16YhGrbziUD",
        "outputId": "cf702a7b-d252-4468-b1ad-52df699c490d"
      },
      "execution_count": null,
      "outputs": [
        {
          "output_type": "execute_result",
          "data": {
            "text/plain": [
              "GaussianNB()"
            ]
          },
          "metadata": {},
          "execution_count": 172
        }
      ]
    },
    {
      "cell_type": "code",
      "source": [
        "print(\"the score -> \",model2.score(X_test, y_test))"
      ],
      "metadata": {
        "colab": {
          "base_uri": "https://localhost:8080/"
        },
        "id": "b480pDhyzv2C",
        "outputId": "2efc6e4f-ccd1-4f44-c081-105fbc688885"
      },
      "execution_count": null,
      "outputs": [
        {
          "output_type": "stream",
          "name": "stdout",
          "text": [
            "the score ->  0.6883116883116883\n"
          ]
        }
      ]
    },
    {
      "cell_type": "code",
      "source": [
        "predict_train = model2.predict(X_train)\n",
        "print(confusion_matrix(y_train,predict_train))\n",
        "print(classification_report(y_train,predict_train))"
      ],
      "metadata": {
        "colab": {
          "base_uri": "https://localhost:8080/"
        },
        "id": "fMKbNbpTzx3o",
        "outputId": "876ab5a5-d039-46a4-8dd1-dc8518a7c402"
      },
      "execution_count": null,
      "outputs": [
        {
          "output_type": "stream",
          "name": "stdout",
          "text": [
            "[[183  57]\n",
            " [ 61 161]]\n",
            "              precision    recall  f1-score   support\n",
            "\n",
            "           0       0.75      0.76      0.76       240\n",
            "           1       0.74      0.73      0.73       222\n",
            "\n",
            "    accuracy                           0.74       462\n",
            "   macro avg       0.74      0.74      0.74       462\n",
            "weighted avg       0.74      0.74      0.74       462\n",
            "\n"
          ]
        }
      ]
    },
    {
      "cell_type": "code",
      "source": [
        "#Third Model is Decision Tree\n",
        "#FIRST TIME WITHOUT A MAX DEPTH PARAMETER AND GINI SELECTOR\n",
        "model3GINI = DecisionTreeClassifier()\n",
        "cv_scores = cross_val_score(model3, X_train, y_train, cv=5)\n",
        "print('score -> ', np.mean(cv_scores))"
      ],
      "metadata": {
        "colab": {
          "base_uri": "https://localhost:8080/"
        },
        "id": "yD4XSoUszz98",
        "outputId": "7adbd5c8-5f49-455d-a6c7-74803b46d1ed"
      },
      "execution_count": null,
      "outputs": [
        {
          "output_type": "stream",
          "name": "stdout",
          "text": [
            "score ->  0.7446704067321178\n"
          ]
        }
      ]
    },
    {
      "cell_type": "code",
      "source": [
        "#with entropy\n",
        "model3 = DecisionTreeClassifier(criterion = \"entropy\", max_depth = 3)\n",
        "cv_scores = cross_val_score(model3, X_train, y_train, cv=5)\n",
        "print('score -> ', np.mean(cv_scores))\n"
      ],
      "metadata": {
        "colab": {
          "base_uri": "https://localhost:8080/"
        },
        "id": "au7NPB1f0Tog",
        "outputId": "567cb7b9-7b5b-49bd-b9c0-706d081eca57"
      },
      "execution_count": null,
      "outputs": [
        {
          "output_type": "stream",
          "name": "stdout",
          "text": [
            "score ->  0.7446704067321178\n"
          ]
        }
      ]
    },
    {
      "cell_type": "code",
      "source": [
        "model3GINI = model3GINI.fit(X_train, y_train)\n",
        "print(\"the score with criterion Entropy -> \",model3GINI.score(X_test, y_test))"
      ],
      "metadata": {
        "colab": {
          "base_uri": "https://localhost:8080/"
        },
        "id": "K3Ud_eGn0mNN",
        "outputId": "d0c62573-7b1c-4131-eb22-8513ffc555e9"
      },
      "execution_count": null,
      "outputs": [
        {
          "output_type": "stream",
          "name": "stdout",
          "text": [
            "the score with criterion Entropy ->  0.8246753246753247\n"
          ]
        }
      ]
    },
    {
      "cell_type": "code",
      "source": [
        "predict_train = model3GINI.predict(X_train)\n",
        "print(confusion_matrix(y_train,predict_train))\n",
        "print(classification_report(y_train,predict_train))"
      ],
      "metadata": {
        "colab": {
          "base_uri": "https://localhost:8080/"
        },
        "id": "nDaK59Z60gq_",
        "outputId": "248e7ede-b995-44c3-e6e9-32aa4d0b4811"
      },
      "execution_count": null,
      "outputs": [
        {
          "output_type": "stream",
          "name": "stdout",
          "text": [
            "[[240   0]\n",
            " [  0 222]]\n",
            "              precision    recall  f1-score   support\n",
            "\n",
            "           0       1.00      1.00      1.00       240\n",
            "           1       1.00      1.00      1.00       222\n",
            "\n",
            "    accuracy                           1.00       462\n",
            "   macro avg       1.00      1.00      1.00       462\n",
            "weighted avg       1.00      1.00      1.00       462\n",
            "\n"
          ]
        }
      ]
    },
    {
      "cell_type": "code",
      "source": [
        "#NEURAL NETWORK\n",
        "model4 = MLPClassifier(hidden_layer_sizes=(8,8), activation='relu', solver='adam', max_iter=500)\n",
        "cv_scores = cross_val_score(model4, X_train, y_train, cv=5)\n"
      ],
      "metadata": {
        "colab": {
          "base_uri": "https://localhost:8080/"
        },
        "id": "2Edo2WSA0sKx",
        "outputId": "96fb83d1-d2c6-46a7-83e2-becc1569de78"
      },
      "execution_count": null,
      "outputs": [
        {
          "output_type": "stream",
          "name": "stderr",
          "text": [
            "/usr/local/lib/python3.8/dist-packages/sklearn/neural_network/_multilayer_perceptron.py:692: ConvergenceWarning: Stochastic Optimizer: Maximum iterations (500) reached and the optimization hasn't converged yet.\n",
            "  warnings.warn(\n",
            "/usr/local/lib/python3.8/dist-packages/sklearn/neural_network/_multilayer_perceptron.py:692: ConvergenceWarning: Stochastic Optimizer: Maximum iterations (500) reached and the optimization hasn't converged yet.\n",
            "  warnings.warn(\n",
            "/usr/local/lib/python3.8/dist-packages/sklearn/neural_network/_multilayer_perceptron.py:692: ConvergenceWarning: Stochastic Optimizer: Maximum iterations (500) reached and the optimization hasn't converged yet.\n",
            "  warnings.warn(\n",
            "/usr/local/lib/python3.8/dist-packages/sklearn/neural_network/_multilayer_perceptron.py:692: ConvergenceWarning: Stochastic Optimizer: Maximum iterations (500) reached and the optimization hasn't converged yet.\n",
            "  warnings.warn(\n",
            "/usr/local/lib/python3.8/dist-packages/sklearn/neural_network/_multilayer_perceptron.py:692: ConvergenceWarning: Stochastic Optimizer: Maximum iterations (500) reached and the optimization hasn't converged yet.\n",
            "  warnings.warn(\n"
          ]
        }
      ]
    },
    {
      "cell_type": "code",
      "source": [
        "print('score -> ', np.mean(cv_scores))"
      ],
      "metadata": {
        "colab": {
          "base_uri": "https://localhost:8080/"
        },
        "id": "uP0SAQ4k1Tam",
        "outputId": "8c4b6eaa-33c7-41b4-f606-39e3c7163ec8"
      },
      "execution_count": null,
      "outputs": [
        {
          "output_type": "stream",
          "name": "stdout",
          "text": [
            "score ->  0.9241234221598879\n"
          ]
        }
      ]
    },
    {
      "cell_type": "code",
      "source": [
        "model4 = model4.fit(X_train, y_train)\n",
        "print(\"score -> \",model4.score(X_test, y_test))"
      ],
      "metadata": {
        "colab": {
          "base_uri": "https://localhost:8080/"
        },
        "id": "FsluJhZ81foN",
        "outputId": "89b26f42-7fee-4b92-a190-b51fa89d53a0"
      },
      "execution_count": null,
      "outputs": [
        {
          "output_type": "stream",
          "name": "stdout",
          "text": [
            "score ->  0.8896103896103896\n"
          ]
        },
        {
          "output_type": "stream",
          "name": "stderr",
          "text": [
            "/usr/local/lib/python3.8/dist-packages/sklearn/neural_network/_multilayer_perceptron.py:692: ConvergenceWarning: Stochastic Optimizer: Maximum iterations (500) reached and the optimization hasn't converged yet.\n",
            "  warnings.warn(\n"
          ]
        }
      ]
    },
    {
      "cell_type": "code",
      "source": [
        "predict_train = model4.predict(X_train)\n",
        "print(confusion_matrix(y_train, predict_train))\n",
        "print(classification_report(y_train, predict_train))"
      ],
      "metadata": {
        "colab": {
          "base_uri": "https://localhost:8080/"
        },
        "id": "DUeoL6fe1uyZ",
        "outputId": "6030897c-fad8-4f0b-91b2-3015b7e314dd"
      },
      "execution_count": null,
      "outputs": [
        {
          "output_type": "stream",
          "name": "stdout",
          "text": [
            "[[229  11]\n",
            " [ 19 203]]\n",
            "              precision    recall  f1-score   support\n",
            "\n",
            "           0       0.92      0.95      0.94       240\n",
            "           1       0.95      0.91      0.93       222\n",
            "\n",
            "    accuracy                           0.94       462\n",
            "   macro avg       0.94      0.93      0.93       462\n",
            "weighted avg       0.94      0.94      0.94       462\n",
            "\n"
          ]
        }
      ]
    },
    {
      "cell_type": "code",
      "source": [
        "from sklearn.cluster import KMeans\n",
        "import matplotlib.pyplot as plt\n",
        "from sklearn.metrics import silhouette_score\n",
        "\n",
        "kmeans = KMeans(n_clusters = 2, init = 'k-means++', max_iter = 300, n_init = 10, random_state = 0).fit_predict(X)\n",
        "\n",
        "#print(kmeans[:1000])\n",
        "\n",
        "y2 = y.to_numpy()\n",
        "cnt = 0\n",
        "\n",
        "\n",
        "#DEGERLENDIRME\n",
        "for x in range(len(kmeans)):\n",
        "  if kmeans[x] == y2[x]:\n",
        "    cnt = cnt + 1\n",
        "\n",
        "\n",
        "print('the score is -> ', cnt / len(kmeans))\n",
        "\n",
        "#print(y2[:1000])\n",
        "\n",
        "print(classification_report(y2, kmeans))\n",
        "\n",
        "#print(kmeans.score(X_test, y_test))\n",
        "# y_pred = kmeans.predict(X_test)\n",
        "#print('score -> ', score)"
      ],
      "metadata": {
        "colab": {
          "base_uri": "https://localhost:8080/"
        },
        "id": "_vL4s8bWoo3x",
        "outputId": "28063ffc-9428-4545-a1e2-c5dc33224e03"
      },
      "execution_count": null,
      "outputs": [
        {
          "output_type": "stream",
          "name": "stdout",
          "text": [
            "0.49188311688311687\n",
            "              precision    recall  f1-score   support\n",
            "\n",
            "           0       0.51      0.50      0.51       320\n",
            "           1       0.47      0.48      0.48       296\n",
            "\n",
            "    accuracy                           0.49       616\n",
            "   macro avg       0.49      0.49      0.49       616\n",
            "weighted avg       0.49      0.49      0.49       616\n",
            "\n"
          ]
        }
      ]
    },
    {
      "cell_type": "code",
      "source": [
        "#GAUSSIAN MIXTURE MODEL\n",
        "\n",
        "gaussianmix = GaussianMixture(n_components = 2)\n",
        "gaussian_result = gaussianmix.fit_predict(X)\n",
        "gaussian_clusters = gaussian_result.unique\n",
        "\n",
        "\n",
        "#DEGERLENDIRME\n",
        "for x in range(len(kmeans)):\n",
        "  if kmeans[x] == y2[x]:\n",
        "    cnt = cnt + 1\n",
        "\n",
        "\n",
        "print('the score is -> ', cnt / len(kmeans))\n",
        "\n"
      ],
      "metadata": {
        "id": "mnhW2q3rVz2K"
      },
      "execution_count": null,
      "outputs": []
    },
    {
      "cell_type": "code",
      "source": [
        "from matplotlib import pyplot\n",
        "from numpy import where\n",
        "birch_model = Birch(threshold = 0.03, n_clusters = 2)\n",
        "\n",
        "birch_result = birch_model.fit_predict(X)\n",
        "\n",
        "# get all of the unique clusters\n",
        "birch_clusters = unique(birch_result)\n",
        "\n",
        "# plot the BIRCH clusters\n",
        "for birch_cluster in birch_clusters:\n",
        "    # get data points that fall in this cluster\n",
        "    index = where(birch_result == birch_clusters)\n",
        "    # make the plot\n",
        "    pyplot.scatter(training_data[index, 0], training_data[index, 1])\n",
        "\n",
        "# show the BIRCH plot\n",
        "pyplot.show()\n",
        "\n",
        "\n",
        "#DEGERLENDIRME\n",
        "for x in range(len(kmeans)):\n",
        "  if kmeans[x] == y2[x]:\n",
        "    cnt = cnt + 1\n",
        "\n",
        "\n",
        "print('the score is -> ', cnt / len(kmeans))"
      ],
      "metadata": {
        "id": "sQbqxtMsU1yw"
      },
      "execution_count": null,
      "outputs": []
    },
    {
      "cell_type": "code",
      "source": [
        "#agglomerative hierarchy clustering algorithm\n",
        "from sklearn.cluster import AgglomerativeClustering\n",
        "\n",
        "agglomerative_model = AgglomerativeClustering(n_clusters=2)\n",
        "agglomerative_result = agglomerative_model.fit_predict(X)\n",
        "agglomerative_clusters = agglomerative_result.unique\n",
        "\n",
        "\n",
        "\n",
        "#DEGERLENDIRME\n",
        "for x in range(len(kmeans)):\n",
        "  if kmeans[x] == y2[x]:\n",
        "    cnt = cnt + 1\n",
        "\n",
        "\n",
        "print('the score is -> ', cnt / len(kmeans))\n"
      ],
      "metadata": {
        "id": "7nRZEoDRVb_l"
      },
      "execution_count": null,
      "outputs": []
    }
  ]
}